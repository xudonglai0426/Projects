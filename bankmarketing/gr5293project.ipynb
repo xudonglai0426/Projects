{
 "cells": [
  {
   "cell_type": "code",
   "execution_count": 1,
   "id": "80ff40ce",
   "metadata": {},
   "outputs": [],
   "source": [
    "import pandas as pd\n",
    "import numpy as np\n",
    "import matplotlib.pyplot as plt\n",
    "\n",
    "%matplotlib inline"
   ]
  },
  {
   "cell_type": "markdown",
   "id": "b311deb4",
   "metadata": {},
   "source": [
    "## Load Dataset"
   ]
  },
  {
   "cell_type": "code",
   "execution_count": 2,
   "id": "64334e97",
   "metadata": {},
   "outputs": [
    {
     "data": {
      "text/html": [
       "<div>\n",
       "<style scoped>\n",
       "    .dataframe tbody tr th:only-of-type {\n",
       "        vertical-align: middle;\n",
       "    }\n",
       "\n",
       "    .dataframe tbody tr th {\n",
       "        vertical-align: top;\n",
       "    }\n",
       "\n",
       "    .dataframe thead th {\n",
       "        text-align: right;\n",
       "    }\n",
       "</style>\n",
       "<table border=\"1\" class=\"dataframe\">\n",
       "  <thead>\n",
       "    <tr style=\"text-align: right;\">\n",
       "      <th></th>\n",
       "      <th>age</th>\n",
       "      <th>job</th>\n",
       "      <th>marital</th>\n",
       "      <th>education</th>\n",
       "      <th>default</th>\n",
       "      <th>housing</th>\n",
       "      <th>loan</th>\n",
       "      <th>contact</th>\n",
       "      <th>month</th>\n",
       "      <th>day_of_week</th>\n",
       "      <th>...</th>\n",
       "      <th>campaign</th>\n",
       "      <th>pdays</th>\n",
       "      <th>previous</th>\n",
       "      <th>poutcome</th>\n",
       "      <th>emp.var.rate</th>\n",
       "      <th>cons.price.idx</th>\n",
       "      <th>cons.conf.idx</th>\n",
       "      <th>euribor3m</th>\n",
       "      <th>nr.employed</th>\n",
       "      <th>y</th>\n",
       "    </tr>\n",
       "  </thead>\n",
       "  <tbody>\n",
       "    <tr>\n",
       "      <th>0</th>\n",
       "      <td>56</td>\n",
       "      <td>housemaid</td>\n",
       "      <td>married</td>\n",
       "      <td>basic.4y</td>\n",
       "      <td>no</td>\n",
       "      <td>no</td>\n",
       "      <td>no</td>\n",
       "      <td>telephone</td>\n",
       "      <td>may</td>\n",
       "      <td>mon</td>\n",
       "      <td>...</td>\n",
       "      <td>1</td>\n",
       "      <td>999</td>\n",
       "      <td>0</td>\n",
       "      <td>nonexistent</td>\n",
       "      <td>1.1</td>\n",
       "      <td>93.994</td>\n",
       "      <td>-36.4</td>\n",
       "      <td>4.857</td>\n",
       "      <td>5191.0</td>\n",
       "      <td>no</td>\n",
       "    </tr>\n",
       "    <tr>\n",
       "      <th>1</th>\n",
       "      <td>57</td>\n",
       "      <td>services</td>\n",
       "      <td>married</td>\n",
       "      <td>high.school</td>\n",
       "      <td>unknown</td>\n",
       "      <td>no</td>\n",
       "      <td>no</td>\n",
       "      <td>telephone</td>\n",
       "      <td>may</td>\n",
       "      <td>mon</td>\n",
       "      <td>...</td>\n",
       "      <td>1</td>\n",
       "      <td>999</td>\n",
       "      <td>0</td>\n",
       "      <td>nonexistent</td>\n",
       "      <td>1.1</td>\n",
       "      <td>93.994</td>\n",
       "      <td>-36.4</td>\n",
       "      <td>4.857</td>\n",
       "      <td>5191.0</td>\n",
       "      <td>no</td>\n",
       "    </tr>\n",
       "    <tr>\n",
       "      <th>2</th>\n",
       "      <td>37</td>\n",
       "      <td>services</td>\n",
       "      <td>married</td>\n",
       "      <td>high.school</td>\n",
       "      <td>no</td>\n",
       "      <td>yes</td>\n",
       "      <td>no</td>\n",
       "      <td>telephone</td>\n",
       "      <td>may</td>\n",
       "      <td>mon</td>\n",
       "      <td>...</td>\n",
       "      <td>1</td>\n",
       "      <td>999</td>\n",
       "      <td>0</td>\n",
       "      <td>nonexistent</td>\n",
       "      <td>1.1</td>\n",
       "      <td>93.994</td>\n",
       "      <td>-36.4</td>\n",
       "      <td>4.857</td>\n",
       "      <td>5191.0</td>\n",
       "      <td>no</td>\n",
       "    </tr>\n",
       "    <tr>\n",
       "      <th>3</th>\n",
       "      <td>40</td>\n",
       "      <td>admin.</td>\n",
       "      <td>married</td>\n",
       "      <td>basic.6y</td>\n",
       "      <td>no</td>\n",
       "      <td>no</td>\n",
       "      <td>no</td>\n",
       "      <td>telephone</td>\n",
       "      <td>may</td>\n",
       "      <td>mon</td>\n",
       "      <td>...</td>\n",
       "      <td>1</td>\n",
       "      <td>999</td>\n",
       "      <td>0</td>\n",
       "      <td>nonexistent</td>\n",
       "      <td>1.1</td>\n",
       "      <td>93.994</td>\n",
       "      <td>-36.4</td>\n",
       "      <td>4.857</td>\n",
       "      <td>5191.0</td>\n",
       "      <td>no</td>\n",
       "    </tr>\n",
       "    <tr>\n",
       "      <th>4</th>\n",
       "      <td>56</td>\n",
       "      <td>services</td>\n",
       "      <td>married</td>\n",
       "      <td>high.school</td>\n",
       "      <td>no</td>\n",
       "      <td>no</td>\n",
       "      <td>yes</td>\n",
       "      <td>telephone</td>\n",
       "      <td>may</td>\n",
       "      <td>mon</td>\n",
       "      <td>...</td>\n",
       "      <td>1</td>\n",
       "      <td>999</td>\n",
       "      <td>0</td>\n",
       "      <td>nonexistent</td>\n",
       "      <td>1.1</td>\n",
       "      <td>93.994</td>\n",
       "      <td>-36.4</td>\n",
       "      <td>4.857</td>\n",
       "      <td>5191.0</td>\n",
       "      <td>no</td>\n",
       "    </tr>\n",
       "    <tr>\n",
       "      <th>5</th>\n",
       "      <td>45</td>\n",
       "      <td>services</td>\n",
       "      <td>married</td>\n",
       "      <td>basic.9y</td>\n",
       "      <td>unknown</td>\n",
       "      <td>no</td>\n",
       "      <td>no</td>\n",
       "      <td>telephone</td>\n",
       "      <td>may</td>\n",
       "      <td>mon</td>\n",
       "      <td>...</td>\n",
       "      <td>1</td>\n",
       "      <td>999</td>\n",
       "      <td>0</td>\n",
       "      <td>nonexistent</td>\n",
       "      <td>1.1</td>\n",
       "      <td>93.994</td>\n",
       "      <td>-36.4</td>\n",
       "      <td>4.857</td>\n",
       "      <td>5191.0</td>\n",
       "      <td>no</td>\n",
       "    </tr>\n",
       "    <tr>\n",
       "      <th>6</th>\n",
       "      <td>59</td>\n",
       "      <td>admin.</td>\n",
       "      <td>married</td>\n",
       "      <td>professional.course</td>\n",
       "      <td>no</td>\n",
       "      <td>no</td>\n",
       "      <td>no</td>\n",
       "      <td>telephone</td>\n",
       "      <td>may</td>\n",
       "      <td>mon</td>\n",
       "      <td>...</td>\n",
       "      <td>1</td>\n",
       "      <td>999</td>\n",
       "      <td>0</td>\n",
       "      <td>nonexistent</td>\n",
       "      <td>1.1</td>\n",
       "      <td>93.994</td>\n",
       "      <td>-36.4</td>\n",
       "      <td>4.857</td>\n",
       "      <td>5191.0</td>\n",
       "      <td>no</td>\n",
       "    </tr>\n",
       "    <tr>\n",
       "      <th>7</th>\n",
       "      <td>41</td>\n",
       "      <td>blue-collar</td>\n",
       "      <td>married</td>\n",
       "      <td>unknown</td>\n",
       "      <td>unknown</td>\n",
       "      <td>no</td>\n",
       "      <td>no</td>\n",
       "      <td>telephone</td>\n",
       "      <td>may</td>\n",
       "      <td>mon</td>\n",
       "      <td>...</td>\n",
       "      <td>1</td>\n",
       "      <td>999</td>\n",
       "      <td>0</td>\n",
       "      <td>nonexistent</td>\n",
       "      <td>1.1</td>\n",
       "      <td>93.994</td>\n",
       "      <td>-36.4</td>\n",
       "      <td>4.857</td>\n",
       "      <td>5191.0</td>\n",
       "      <td>no</td>\n",
       "    </tr>\n",
       "    <tr>\n",
       "      <th>8</th>\n",
       "      <td>24</td>\n",
       "      <td>technician</td>\n",
       "      <td>single</td>\n",
       "      <td>professional.course</td>\n",
       "      <td>no</td>\n",
       "      <td>yes</td>\n",
       "      <td>no</td>\n",
       "      <td>telephone</td>\n",
       "      <td>may</td>\n",
       "      <td>mon</td>\n",
       "      <td>...</td>\n",
       "      <td>1</td>\n",
       "      <td>999</td>\n",
       "      <td>0</td>\n",
       "      <td>nonexistent</td>\n",
       "      <td>1.1</td>\n",
       "      <td>93.994</td>\n",
       "      <td>-36.4</td>\n",
       "      <td>4.857</td>\n",
       "      <td>5191.0</td>\n",
       "      <td>no</td>\n",
       "    </tr>\n",
       "    <tr>\n",
       "      <th>9</th>\n",
       "      <td>25</td>\n",
       "      <td>services</td>\n",
       "      <td>single</td>\n",
       "      <td>high.school</td>\n",
       "      <td>no</td>\n",
       "      <td>yes</td>\n",
       "      <td>no</td>\n",
       "      <td>telephone</td>\n",
       "      <td>may</td>\n",
       "      <td>mon</td>\n",
       "      <td>...</td>\n",
       "      <td>1</td>\n",
       "      <td>999</td>\n",
       "      <td>0</td>\n",
       "      <td>nonexistent</td>\n",
       "      <td>1.1</td>\n",
       "      <td>93.994</td>\n",
       "      <td>-36.4</td>\n",
       "      <td>4.857</td>\n",
       "      <td>5191.0</td>\n",
       "      <td>no</td>\n",
       "    </tr>\n",
       "  </tbody>\n",
       "</table>\n",
       "<p>10 rows × 21 columns</p>\n",
       "</div>"
      ],
      "text/plain": [
       "   age          job  marital            education  default housing loan  \\\n",
       "0   56    housemaid  married             basic.4y       no      no   no   \n",
       "1   57     services  married          high.school  unknown      no   no   \n",
       "2   37     services  married          high.school       no     yes   no   \n",
       "3   40       admin.  married             basic.6y       no      no   no   \n",
       "4   56     services  married          high.school       no      no  yes   \n",
       "5   45     services  married             basic.9y  unknown      no   no   \n",
       "6   59       admin.  married  professional.course       no      no   no   \n",
       "7   41  blue-collar  married              unknown  unknown      no   no   \n",
       "8   24   technician   single  professional.course       no     yes   no   \n",
       "9   25     services   single          high.school       no     yes   no   \n",
       "\n",
       "     contact month day_of_week  ...  campaign  pdays  previous     poutcome  \\\n",
       "0  telephone   may         mon  ...         1    999         0  nonexistent   \n",
       "1  telephone   may         mon  ...         1    999         0  nonexistent   \n",
       "2  telephone   may         mon  ...         1    999         0  nonexistent   \n",
       "3  telephone   may         mon  ...         1    999         0  nonexistent   \n",
       "4  telephone   may         mon  ...         1    999         0  nonexistent   \n",
       "5  telephone   may         mon  ...         1    999         0  nonexistent   \n",
       "6  telephone   may         mon  ...         1    999         0  nonexistent   \n",
       "7  telephone   may         mon  ...         1    999         0  nonexistent   \n",
       "8  telephone   may         mon  ...         1    999         0  nonexistent   \n",
       "9  telephone   may         mon  ...         1    999         0  nonexistent   \n",
       "\n",
       "  emp.var.rate  cons.price.idx  cons.conf.idx  euribor3m  nr.employed   y  \n",
       "0          1.1          93.994          -36.4      4.857       5191.0  no  \n",
       "1          1.1          93.994          -36.4      4.857       5191.0  no  \n",
       "2          1.1          93.994          -36.4      4.857       5191.0  no  \n",
       "3          1.1          93.994          -36.4      4.857       5191.0  no  \n",
       "4          1.1          93.994          -36.4      4.857       5191.0  no  \n",
       "5          1.1          93.994          -36.4      4.857       5191.0  no  \n",
       "6          1.1          93.994          -36.4      4.857       5191.0  no  \n",
       "7          1.1          93.994          -36.4      4.857       5191.0  no  \n",
       "8          1.1          93.994          -36.4      4.857       5191.0  no  \n",
       "9          1.1          93.994          -36.4      4.857       5191.0  no  \n",
       "\n",
       "[10 rows x 21 columns]"
      ]
     },
     "execution_count": 2,
     "metadata": {},
     "output_type": "execute_result"
    }
   ],
   "source": [
    "df_original=pd.read_csv('bank-additional-full.csv',sep=';')\n",
    "df=df_original.copy()\n",
    "df.head(10)"
   ]
  },
  {
   "cell_type": "code",
   "execution_count": 3,
   "id": "28937b48",
   "metadata": {},
   "outputs": [
    {
     "data": {
      "text/plain": [
       "(41188, 21)"
      ]
     },
     "execution_count": 3,
     "metadata": {},
     "output_type": "execute_result"
    }
   ],
   "source": [
    "df.shape"
   ]
  },
  {
   "cell_type": "markdown",
   "id": "0b24529e",
   "metadata": {},
   "source": [
    "## Have a look at data"
   ]
  },
  {
   "cell_type": "code",
   "execution_count": 4,
   "id": "0ad7e00a",
   "metadata": {},
   "outputs": [
    {
     "name": "stdout",
     "output_type": "stream",
     "text": [
      "<class 'pandas.core.frame.DataFrame'>\n",
      "RangeIndex: 41188 entries, 0 to 41187\n",
      "Data columns (total 21 columns):\n",
      " #   Column          Non-Null Count  Dtype  \n",
      "---  ------          --------------  -----  \n",
      " 0   age             41188 non-null  int64  \n",
      " 1   job             41188 non-null  object \n",
      " 2   marital         41188 non-null  object \n",
      " 3   education       41188 non-null  object \n",
      " 4   default         41188 non-null  object \n",
      " 5   housing         41188 non-null  object \n",
      " 6   loan            41188 non-null  object \n",
      " 7   contact         41188 non-null  object \n",
      " 8   month           41188 non-null  object \n",
      " 9   day_of_week     41188 non-null  object \n",
      " 10  duration        41188 non-null  int64  \n",
      " 11  campaign        41188 non-null  int64  \n",
      " 12  pdays           41188 non-null  int64  \n",
      " 13  previous        41188 non-null  int64  \n",
      " 14  poutcome        41188 non-null  object \n",
      " 15  emp.var.rate    41188 non-null  float64\n",
      " 16  cons.price.idx  41188 non-null  float64\n",
      " 17  cons.conf.idx   41188 non-null  float64\n",
      " 18  euribor3m       41188 non-null  float64\n",
      " 19  nr.employed     41188 non-null  float64\n",
      " 20  y               41188 non-null  object \n",
      "dtypes: float64(5), int64(5), object(11)\n",
      "memory usage: 6.6+ MB\n"
     ]
    }
   ],
   "source": [
    "df.info()"
   ]
  },
  {
   "cell_type": "code",
   "execution_count": 5,
   "id": "aa308875",
   "metadata": {},
   "outputs": [
    {
     "data": {
      "text/html": [
       "<div>\n",
       "<style scoped>\n",
       "    .dataframe tbody tr th:only-of-type {\n",
       "        vertical-align: middle;\n",
       "    }\n",
       "\n",
       "    .dataframe tbody tr th {\n",
       "        vertical-align: top;\n",
       "    }\n",
       "\n",
       "    .dataframe thead th {\n",
       "        text-align: right;\n",
       "    }\n",
       "</style>\n",
       "<table border=\"1\" class=\"dataframe\">\n",
       "  <thead>\n",
       "    <tr style=\"text-align: right;\">\n",
       "      <th></th>\n",
       "      <th>age</th>\n",
       "      <th>duration</th>\n",
       "      <th>campaign</th>\n",
       "      <th>pdays</th>\n",
       "      <th>previous</th>\n",
       "      <th>emp.var.rate</th>\n",
       "      <th>cons.price.idx</th>\n",
       "      <th>cons.conf.idx</th>\n",
       "      <th>euribor3m</th>\n",
       "      <th>nr.employed</th>\n",
       "    </tr>\n",
       "  </thead>\n",
       "  <tbody>\n",
       "    <tr>\n",
       "      <th>count</th>\n",
       "      <td>41188.00000</td>\n",
       "      <td>41188.000000</td>\n",
       "      <td>41188.000000</td>\n",
       "      <td>41188.000000</td>\n",
       "      <td>41188.000000</td>\n",
       "      <td>41188.000000</td>\n",
       "      <td>41188.000000</td>\n",
       "      <td>41188.000000</td>\n",
       "      <td>41188.000000</td>\n",
       "      <td>41188.000000</td>\n",
       "    </tr>\n",
       "    <tr>\n",
       "      <th>mean</th>\n",
       "      <td>40.02406</td>\n",
       "      <td>258.285010</td>\n",
       "      <td>2.567593</td>\n",
       "      <td>962.475454</td>\n",
       "      <td>0.172963</td>\n",
       "      <td>0.081886</td>\n",
       "      <td>93.575664</td>\n",
       "      <td>-40.502600</td>\n",
       "      <td>3.621291</td>\n",
       "      <td>5167.035911</td>\n",
       "    </tr>\n",
       "    <tr>\n",
       "      <th>std</th>\n",
       "      <td>10.42125</td>\n",
       "      <td>259.279249</td>\n",
       "      <td>2.770014</td>\n",
       "      <td>186.910907</td>\n",
       "      <td>0.494901</td>\n",
       "      <td>1.570960</td>\n",
       "      <td>0.578840</td>\n",
       "      <td>4.628198</td>\n",
       "      <td>1.734447</td>\n",
       "      <td>72.251528</td>\n",
       "    </tr>\n",
       "    <tr>\n",
       "      <th>min</th>\n",
       "      <td>17.00000</td>\n",
       "      <td>0.000000</td>\n",
       "      <td>1.000000</td>\n",
       "      <td>0.000000</td>\n",
       "      <td>0.000000</td>\n",
       "      <td>-3.400000</td>\n",
       "      <td>92.201000</td>\n",
       "      <td>-50.800000</td>\n",
       "      <td>0.634000</td>\n",
       "      <td>4963.600000</td>\n",
       "    </tr>\n",
       "    <tr>\n",
       "      <th>25%</th>\n",
       "      <td>32.00000</td>\n",
       "      <td>102.000000</td>\n",
       "      <td>1.000000</td>\n",
       "      <td>999.000000</td>\n",
       "      <td>0.000000</td>\n",
       "      <td>-1.800000</td>\n",
       "      <td>93.075000</td>\n",
       "      <td>-42.700000</td>\n",
       "      <td>1.344000</td>\n",
       "      <td>5099.100000</td>\n",
       "    </tr>\n",
       "    <tr>\n",
       "      <th>50%</th>\n",
       "      <td>38.00000</td>\n",
       "      <td>180.000000</td>\n",
       "      <td>2.000000</td>\n",
       "      <td>999.000000</td>\n",
       "      <td>0.000000</td>\n",
       "      <td>1.100000</td>\n",
       "      <td>93.749000</td>\n",
       "      <td>-41.800000</td>\n",
       "      <td>4.857000</td>\n",
       "      <td>5191.000000</td>\n",
       "    </tr>\n",
       "    <tr>\n",
       "      <th>75%</th>\n",
       "      <td>47.00000</td>\n",
       "      <td>319.000000</td>\n",
       "      <td>3.000000</td>\n",
       "      <td>999.000000</td>\n",
       "      <td>0.000000</td>\n",
       "      <td>1.400000</td>\n",
       "      <td>93.994000</td>\n",
       "      <td>-36.400000</td>\n",
       "      <td>4.961000</td>\n",
       "      <td>5228.100000</td>\n",
       "    </tr>\n",
       "    <tr>\n",
       "      <th>max</th>\n",
       "      <td>98.00000</td>\n",
       "      <td>4918.000000</td>\n",
       "      <td>56.000000</td>\n",
       "      <td>999.000000</td>\n",
       "      <td>7.000000</td>\n",
       "      <td>1.400000</td>\n",
       "      <td>94.767000</td>\n",
       "      <td>-26.900000</td>\n",
       "      <td>5.045000</td>\n",
       "      <td>5228.100000</td>\n",
       "    </tr>\n",
       "  </tbody>\n",
       "</table>\n",
       "</div>"
      ],
      "text/plain": [
       "               age      duration      campaign         pdays      previous  \\\n",
       "count  41188.00000  41188.000000  41188.000000  41188.000000  41188.000000   \n",
       "mean      40.02406    258.285010      2.567593    962.475454      0.172963   \n",
       "std       10.42125    259.279249      2.770014    186.910907      0.494901   \n",
       "min       17.00000      0.000000      1.000000      0.000000      0.000000   \n",
       "25%       32.00000    102.000000      1.000000    999.000000      0.000000   \n",
       "50%       38.00000    180.000000      2.000000    999.000000      0.000000   \n",
       "75%       47.00000    319.000000      3.000000    999.000000      0.000000   \n",
       "max       98.00000   4918.000000     56.000000    999.000000      7.000000   \n",
       "\n",
       "       emp.var.rate  cons.price.idx  cons.conf.idx     euribor3m   nr.employed  \n",
       "count  41188.000000    41188.000000   41188.000000  41188.000000  41188.000000  \n",
       "mean       0.081886       93.575664     -40.502600      3.621291   5167.035911  \n",
       "std        1.570960        0.578840       4.628198      1.734447     72.251528  \n",
       "min       -3.400000       92.201000     -50.800000      0.634000   4963.600000  \n",
       "25%       -1.800000       93.075000     -42.700000      1.344000   5099.100000  \n",
       "50%        1.100000       93.749000     -41.800000      4.857000   5191.000000  \n",
       "75%        1.400000       93.994000     -36.400000      4.961000   5228.100000  \n",
       "max        1.400000       94.767000     -26.900000      5.045000   5228.100000  "
      ]
     },
     "execution_count": 5,
     "metadata": {},
     "output_type": "execute_result"
    }
   ],
   "source": [
    "df.describe()"
   ]
  },
  {
   "cell_type": "code",
   "execution_count": 6,
   "id": "03404039",
   "metadata": {},
   "outputs": [
    {
     "data": {
      "text/plain": [
       "nonexistent    35563\n",
       "failure         4252\n",
       "success         1373\n",
       "Name: poutcome, dtype: int64"
      ]
     },
     "execution_count": 6,
     "metadata": {},
     "output_type": "execute_result"
    }
   ],
   "source": [
    "df.poutcome.value_counts()"
   ]
  },
  {
   "cell_type": "code",
   "execution_count": 7,
   "id": "6858ef2e",
   "metadata": {},
   "outputs": [
    {
     "data": {
      "text/plain": [
       "no         32588\n",
       "unknown     8597\n",
       "yes            3\n",
       "Name: default, dtype: int64"
      ]
     },
     "execution_count": 7,
     "metadata": {},
     "output_type": "execute_result"
    }
   ],
   "source": [
    "df.default.value_counts()"
   ]
  },
  {
   "cell_type": "code",
   "execution_count": 8,
   "id": "7acb9aba",
   "metadata": {},
   "outputs": [
    {
     "data": {
      "text/plain": [
       "(10700, 21)"
      ]
     },
     "execution_count": 8,
     "metadata": {},
     "output_type": "execute_result"
    }
   ],
   "source": [
    "df_drop=df[(df[\"job\"]==\"unknown\")|(df[\"marital\"]==\"unknown\")|(df[\"default\"]==\"unknown\")|\n",
    "   (df[\"education\"]==\"unknown\")|(df[\"housing\"]==\"unknown\")|(df[\"loan\"]==\"unknown\")]\n",
    "df_drop.shape"
   ]
  },
  {
   "cell_type": "code",
   "execution_count": 9,
   "id": "c3af2282",
   "metadata": {},
   "outputs": [
    {
     "data": {
      "text/plain": [
       "(30488, 21)"
      ]
     },
     "execution_count": 9,
     "metadata": {},
     "output_type": "execute_result"
    }
   ],
   "source": [
    "df1=df.drop(df_drop.index)\n",
    "df1.shape"
   ]
  },
  {
   "cell_type": "code",
   "execution_count": 34,
   "id": "a7a56d1c",
   "metadata": {},
   "outputs": [
    {
     "name": "stdout",
     "output_type": "stream",
     "text": [
      "10\n"
     ]
    },
    {
     "data": {
      "text/plain": [
       "(30478, 21)"
      ]
     },
     "execution_count": 34,
     "metadata": {},
     "output_type": "execute_result"
    }
   ],
   "source": [
    "print(df1.duplicated().sum())\n",
    "df_new=df1.drop_duplicates(subset=None, keep='first', inplace=False)\n",
    "df_new.shape"
   ]
  },
  {
   "cell_type": "code",
   "execution_count": 11,
   "id": "5854d3ab",
   "metadata": {},
   "outputs": [
    {
     "name": "stderr",
     "output_type": "stream",
     "text": [
      "/Users/donglaixu/opt/anaconda3/envs/tf2/lib/python3.8/site-packages/pandas/core/frame.py:4906: SettingWithCopyWarning: \n",
      "A value is trying to be set on a copy of a slice from a DataFrame\n",
      "\n",
      "See the caveats in the documentation: https://pandas.pydata.org/pandas-docs/stable/user_guide/indexing.html#returning-a-view-versus-a-copy\n",
      "  return super().drop(\n"
     ]
    },
    {
     "data": {
      "text/plain": [
       "(30478, 20)"
      ]
     },
     "execution_count": 11,
     "metadata": {},
     "output_type": "execute_result"
    }
   ],
   "source": [
    "#df_new.drop(\"poutcome\", axis=1, inplace=True)\n",
    "#df_new.drop(\"duration\", axis=1, inplace=True)\n",
    "#df_new.shape"
   ]
  },
  {
   "cell_type": "code",
   "execution_count": 35,
   "id": "37d12945",
   "metadata": {},
   "outputs": [
    {
     "name": "stderr",
     "output_type": "stream",
     "text": [
      "/var/folders/2k/mw4jbldx2mx1m3941mygzn8h0000gn/T/ipykernel_40374/2985943022.py:6: SettingWithCopyWarning: \n",
      "A value is trying to be set on a copy of a slice from a DataFrame.\n",
      "Try using .loc[row_indexer,col_indexer] = value instead\n",
      "\n",
      "See the caveats in the documentation: https://pandas.pydata.org/pandas-docs/stable/user_guide/indexing.html#returning-a-view-versus-a-copy\n",
      "  df_new[f'{i}']=StandardScaler().fit_transform(df_new[[f'{i}']])\n",
      "/var/folders/2k/mw4jbldx2mx1m3941mygzn8h0000gn/T/ipykernel_40374/2985943022.py:6: SettingWithCopyWarning: \n",
      "A value is trying to be set on a copy of a slice from a DataFrame.\n",
      "Try using .loc[row_indexer,col_indexer] = value instead\n",
      "\n",
      "See the caveats in the documentation: https://pandas.pydata.org/pandas-docs/stable/user_guide/indexing.html#returning-a-view-versus-a-copy\n",
      "  df_new[f'{i}']=StandardScaler().fit_transform(df_new[[f'{i}']])\n",
      "/var/folders/2k/mw4jbldx2mx1m3941mygzn8h0000gn/T/ipykernel_40374/2985943022.py:6: SettingWithCopyWarning: \n",
      "A value is trying to be set on a copy of a slice from a DataFrame.\n",
      "Try using .loc[row_indexer,col_indexer] = value instead\n",
      "\n",
      "See the caveats in the documentation: https://pandas.pydata.org/pandas-docs/stable/user_guide/indexing.html#returning-a-view-versus-a-copy\n",
      "  df_new[f'{i}']=StandardScaler().fit_transform(df_new[[f'{i}']])\n",
      "/var/folders/2k/mw4jbldx2mx1m3941mygzn8h0000gn/T/ipykernel_40374/2985943022.py:6: SettingWithCopyWarning: \n",
      "A value is trying to be set on a copy of a slice from a DataFrame.\n",
      "Try using .loc[row_indexer,col_indexer] = value instead\n",
      "\n",
      "See the caveats in the documentation: https://pandas.pydata.org/pandas-docs/stable/user_guide/indexing.html#returning-a-view-versus-a-copy\n",
      "  df_new[f'{i}']=StandardScaler().fit_transform(df_new[[f'{i}']])\n",
      "/var/folders/2k/mw4jbldx2mx1m3941mygzn8h0000gn/T/ipykernel_40374/2985943022.py:6: SettingWithCopyWarning: \n",
      "A value is trying to be set on a copy of a slice from a DataFrame.\n",
      "Try using .loc[row_indexer,col_indexer] = value instead\n",
      "\n",
      "See the caveats in the documentation: https://pandas.pydata.org/pandas-docs/stable/user_guide/indexing.html#returning-a-view-versus-a-copy\n",
      "  df_new[f'{i}']=StandardScaler().fit_transform(df_new[[f'{i}']])\n",
      "/var/folders/2k/mw4jbldx2mx1m3941mygzn8h0000gn/T/ipykernel_40374/2985943022.py:6: SettingWithCopyWarning: \n",
      "A value is trying to be set on a copy of a slice from a DataFrame.\n",
      "Try using .loc[row_indexer,col_indexer] = value instead\n",
      "\n",
      "See the caveats in the documentation: https://pandas.pydata.org/pandas-docs/stable/user_guide/indexing.html#returning-a-view-versus-a-copy\n",
      "  df_new[f'{i}']=StandardScaler().fit_transform(df_new[[f'{i}']])\n",
      "/var/folders/2k/mw4jbldx2mx1m3941mygzn8h0000gn/T/ipykernel_40374/2985943022.py:6: SettingWithCopyWarning: \n",
      "A value is trying to be set on a copy of a slice from a DataFrame.\n",
      "Try using .loc[row_indexer,col_indexer] = value instead\n",
      "\n",
      "See the caveats in the documentation: https://pandas.pydata.org/pandas-docs/stable/user_guide/indexing.html#returning-a-view-versus-a-copy\n",
      "  df_new[f'{i}']=StandardScaler().fit_transform(df_new[[f'{i}']])\n",
      "/var/folders/2k/mw4jbldx2mx1m3941mygzn8h0000gn/T/ipykernel_40374/2985943022.py:6: SettingWithCopyWarning: \n",
      "A value is trying to be set on a copy of a slice from a DataFrame.\n",
      "Try using .loc[row_indexer,col_indexer] = value instead\n",
      "\n",
      "See the caveats in the documentation: https://pandas.pydata.org/pandas-docs/stable/user_guide/indexing.html#returning-a-view-versus-a-copy\n",
      "  df_new[f'{i}']=StandardScaler().fit_transform(df_new[[f'{i}']])\n",
      "/var/folders/2k/mw4jbldx2mx1m3941mygzn8h0000gn/T/ipykernel_40374/2985943022.py:6: SettingWithCopyWarning: \n",
      "A value is trying to be set on a copy of a slice from a DataFrame.\n",
      "Try using .loc[row_indexer,col_indexer] = value instead\n",
      "\n",
      "See the caveats in the documentation: https://pandas.pydata.org/pandas-docs/stable/user_guide/indexing.html#returning-a-view-versus-a-copy\n",
      "  df_new[f'{i}']=StandardScaler().fit_transform(df_new[[f'{i}']])\n",
      "/var/folders/2k/mw4jbldx2mx1m3941mygzn8h0000gn/T/ipykernel_40374/2985943022.py:6: SettingWithCopyWarning: \n",
      "A value is trying to be set on a copy of a slice from a DataFrame.\n",
      "Try using .loc[row_indexer,col_indexer] = value instead\n",
      "\n",
      "See the caveats in the documentation: https://pandas.pydata.org/pandas-docs/stable/user_guide/indexing.html#returning-a-view-versus-a-copy\n",
      "  df_new[f'{i}']=StandardScaler().fit_transform(df_new[[f'{i}']])\n"
     ]
    }
   ],
   "source": [
    "from sklearn.preprocessing import StandardScaler\n",
    "ss=StandardScaler()\n",
    "name=['age','duration','campaign','pdays','previous','emp.var.rate',\n",
    "      'cons.price.idx','cons.conf.idx','euribor3m','nr.employed']\n",
    "for i in name:\n",
    "    df_new[f'{i}']=StandardScaler().fit_transform(df_new[[f'{i}']])"
   ]
  },
  {
   "cell_type": "code",
   "execution_count": 36,
   "id": "00299161",
   "metadata": {},
   "outputs": [
    {
     "data": {
      "text/html": [
       "<div>\n",
       "<style scoped>\n",
       "    .dataframe tbody tr th:only-of-type {\n",
       "        vertical-align: middle;\n",
       "    }\n",
       "\n",
       "    .dataframe tbody tr th {\n",
       "        vertical-align: top;\n",
       "    }\n",
       "\n",
       "    .dataframe thead th {\n",
       "        text-align: right;\n",
       "    }\n",
       "</style>\n",
       "<table border=\"1\" class=\"dataframe\">\n",
       "  <thead>\n",
       "    <tr style=\"text-align: right;\">\n",
       "      <th></th>\n",
       "      <th>age</th>\n",
       "      <th>duration</th>\n",
       "      <th>campaign</th>\n",
       "      <th>pdays</th>\n",
       "      <th>previous</th>\n",
       "      <th>emp.var.rate</th>\n",
       "      <th>cons.price.idx</th>\n",
       "      <th>cons.conf.idx</th>\n",
       "      <th>euribor3m</th>\n",
       "      <th>nr.employed</th>\n",
       "    </tr>\n",
       "  </thead>\n",
       "  <tbody>\n",
       "    <tr>\n",
       "      <th>mean</th>\n",
       "      <td>-0.0</td>\n",
       "      <td>0.0</td>\n",
       "      <td>0.0</td>\n",
       "      <td>0.0</td>\n",
       "      <td>-0.0</td>\n",
       "      <td>0.0</td>\n",
       "      <td>0.0</td>\n",
       "      <td>0.0</td>\n",
       "      <td>0.0</td>\n",
       "      <td>-0.0</td>\n",
       "    </tr>\n",
       "    <tr>\n",
       "      <th>std</th>\n",
       "      <td>1.0</td>\n",
       "      <td>1.0</td>\n",
       "      <td>1.0</td>\n",
       "      <td>1.0</td>\n",
       "      <td>1.0</td>\n",
       "      <td>1.0</td>\n",
       "      <td>1.0</td>\n",
       "      <td>1.0</td>\n",
       "      <td>1.0</td>\n",
       "      <td>1.0</td>\n",
       "    </tr>\n",
       "  </tbody>\n",
       "</table>\n",
       "</div>"
      ],
      "text/plain": [
       "      age  duration  campaign  pdays  previous  emp.var.rate  cons.price.idx  \\\n",
       "mean -0.0       0.0       0.0    0.0      -0.0           0.0             0.0   \n",
       "std   1.0       1.0       1.0    1.0       1.0           1.0             1.0   \n",
       "\n",
       "      cons.conf.idx  euribor3m  nr.employed  \n",
       "mean            0.0        0.0         -0.0  \n",
       "std             1.0        1.0          1.0  "
      ]
     },
     "execution_count": 36,
     "metadata": {},
     "output_type": "execute_result"
    }
   ],
   "source": [
    "df_new.agg(['mean','std']).round(2)"
   ]
  },
  {
   "cell_type": "code",
   "execution_count": 37,
   "id": "ef5bdf33",
   "metadata": {},
   "outputs": [
    {
     "data": {
      "text/html": [
       "<div>\n",
       "<style scoped>\n",
       "    .dataframe tbody tr th:only-of-type {\n",
       "        vertical-align: middle;\n",
       "    }\n",
       "\n",
       "    .dataframe tbody tr th {\n",
       "        vertical-align: top;\n",
       "    }\n",
       "\n",
       "    .dataframe thead th {\n",
       "        text-align: right;\n",
       "    }\n",
       "</style>\n",
       "<table border=\"1\" class=\"dataframe\">\n",
       "  <thead>\n",
       "    <tr style=\"text-align: right;\">\n",
       "      <th></th>\n",
       "      <th>age</th>\n",
       "      <th>job</th>\n",
       "      <th>marital</th>\n",
       "      <th>education</th>\n",
       "      <th>default</th>\n",
       "      <th>housing</th>\n",
       "      <th>loan</th>\n",
       "      <th>contact</th>\n",
       "      <th>month</th>\n",
       "      <th>day_of_week</th>\n",
       "      <th>...</th>\n",
       "      <th>campaign</th>\n",
       "      <th>pdays</th>\n",
       "      <th>previous</th>\n",
       "      <th>poutcome</th>\n",
       "      <th>emp.var.rate</th>\n",
       "      <th>cons.price.idx</th>\n",
       "      <th>cons.conf.idx</th>\n",
       "      <th>euribor3m</th>\n",
       "      <th>nr.employed</th>\n",
       "      <th>y</th>\n",
       "    </tr>\n",
       "  </thead>\n",
       "  <tbody>\n",
       "    <tr>\n",
       "      <th>0</th>\n",
       "      <td>1.642408</td>\n",
       "      <td>housemaid</td>\n",
       "      <td>married</td>\n",
       "      <td>basic.4y</td>\n",
       "      <td>no</td>\n",
       "      <td>no</td>\n",
       "      <td>no</td>\n",
       "      <td>telephone</td>\n",
       "      <td>may</td>\n",
       "      <td>mon</td>\n",
       "      <td>...</td>\n",
       "      <td>-0.559363</td>\n",
       "      <td>0.211923</td>\n",
       "      <td>-0.371685</td>\n",
       "      <td>nonexistent</td>\n",
       "      <td>0.727467</td>\n",
       "      <td>0.803995</td>\n",
       "      <td>0.877601</td>\n",
       "      <td>0.786088</td>\n",
       "      <td>0.401639</td>\n",
       "      <td>no</td>\n",
       "    </tr>\n",
       "    <tr>\n",
       "      <th>2</th>\n",
       "      <td>-0.196436</td>\n",
       "      <td>services</td>\n",
       "      <td>married</td>\n",
       "      <td>high.school</td>\n",
       "      <td>no</td>\n",
       "      <td>yes</td>\n",
       "      <td>no</td>\n",
       "      <td>telephone</td>\n",
       "      <td>may</td>\n",
       "      <td>mon</td>\n",
       "      <td>...</td>\n",
       "      <td>-0.559363</td>\n",
       "      <td>0.211923</td>\n",
       "      <td>-0.371685</td>\n",
       "      <td>nonexistent</td>\n",
       "      <td>0.727467</td>\n",
       "      <td>0.803995</td>\n",
       "      <td>0.877601</td>\n",
       "      <td>0.786088</td>\n",
       "      <td>0.401639</td>\n",
       "      <td>no</td>\n",
       "    </tr>\n",
       "    <tr>\n",
       "      <th>3</th>\n",
       "      <td>0.093908</td>\n",
       "      <td>admin.</td>\n",
       "      <td>married</td>\n",
       "      <td>basic.6y</td>\n",
       "      <td>no</td>\n",
       "      <td>no</td>\n",
       "      <td>no</td>\n",
       "      <td>telephone</td>\n",
       "      <td>may</td>\n",
       "      <td>mon</td>\n",
       "      <td>...</td>\n",
       "      <td>-0.559363</td>\n",
       "      <td>0.211923</td>\n",
       "      <td>-0.371685</td>\n",
       "      <td>nonexistent</td>\n",
       "      <td>0.727467</td>\n",
       "      <td>0.803995</td>\n",
       "      <td>0.877601</td>\n",
       "      <td>0.786088</td>\n",
       "      <td>0.401639</td>\n",
       "      <td>no</td>\n",
       "    </tr>\n",
       "    <tr>\n",
       "      <th>4</th>\n",
       "      <td>1.642408</td>\n",
       "      <td>services</td>\n",
       "      <td>married</td>\n",
       "      <td>high.school</td>\n",
       "      <td>no</td>\n",
       "      <td>no</td>\n",
       "      <td>yes</td>\n",
       "      <td>telephone</td>\n",
       "      <td>may</td>\n",
       "      <td>mon</td>\n",
       "      <td>...</td>\n",
       "      <td>-0.559363</td>\n",
       "      <td>0.211923</td>\n",
       "      <td>-0.371685</td>\n",
       "      <td>nonexistent</td>\n",
       "      <td>0.727467</td>\n",
       "      <td>0.803995</td>\n",
       "      <td>0.877601</td>\n",
       "      <td>0.786088</td>\n",
       "      <td>0.401639</td>\n",
       "      <td>no</td>\n",
       "    </tr>\n",
       "    <tr>\n",
       "      <th>6</th>\n",
       "      <td>1.932752</td>\n",
       "      <td>admin.</td>\n",
       "      <td>married</td>\n",
       "      <td>professional.course</td>\n",
       "      <td>no</td>\n",
       "      <td>no</td>\n",
       "      <td>no</td>\n",
       "      <td>telephone</td>\n",
       "      <td>may</td>\n",
       "      <td>mon</td>\n",
       "      <td>...</td>\n",
       "      <td>-0.559363</td>\n",
       "      <td>0.211923</td>\n",
       "      <td>-0.371685</td>\n",
       "      <td>nonexistent</td>\n",
       "      <td>0.727467</td>\n",
       "      <td>0.803995</td>\n",
       "      <td>0.877601</td>\n",
       "      <td>0.786088</td>\n",
       "      <td>0.401639</td>\n",
       "      <td>no</td>\n",
       "    </tr>\n",
       "  </tbody>\n",
       "</table>\n",
       "<p>5 rows × 21 columns</p>\n",
       "</div>"
      ],
      "text/plain": [
       "        age        job  marital            education default housing loan  \\\n",
       "0  1.642408  housemaid  married             basic.4y      no      no   no   \n",
       "2 -0.196436   services  married          high.school      no     yes   no   \n",
       "3  0.093908     admin.  married             basic.6y      no      no   no   \n",
       "4  1.642408   services  married          high.school      no      no  yes   \n",
       "6  1.932752     admin.  married  professional.course      no      no   no   \n",
       "\n",
       "     contact month day_of_week  ...  campaign     pdays  previous  \\\n",
       "0  telephone   may         mon  ... -0.559363  0.211923 -0.371685   \n",
       "2  telephone   may         mon  ... -0.559363  0.211923 -0.371685   \n",
       "3  telephone   may         mon  ... -0.559363  0.211923 -0.371685   \n",
       "4  telephone   may         mon  ... -0.559363  0.211923 -0.371685   \n",
       "6  telephone   may         mon  ... -0.559363  0.211923 -0.371685   \n",
       "\n",
       "      poutcome emp.var.rate  cons.price.idx  cons.conf.idx  euribor3m  \\\n",
       "0  nonexistent     0.727467        0.803995       0.877601   0.786088   \n",
       "2  nonexistent     0.727467        0.803995       0.877601   0.786088   \n",
       "3  nonexistent     0.727467        0.803995       0.877601   0.786088   \n",
       "4  nonexistent     0.727467        0.803995       0.877601   0.786088   \n",
       "6  nonexistent     0.727467        0.803995       0.877601   0.786088   \n",
       "\n",
       "   nr.employed   y  \n",
       "0     0.401639  no  \n",
       "2     0.401639  no  \n",
       "3     0.401639  no  \n",
       "4     0.401639  no  \n",
       "6     0.401639  no  \n",
       "\n",
       "[5 rows x 21 columns]"
      ]
     },
     "execution_count": 37,
     "metadata": {},
     "output_type": "execute_result"
    }
   ],
   "source": [
    "#outliers\n",
    "df_new.head()"
   ]
  },
  {
   "cell_type": "code",
   "execution_count": 38,
   "id": "b2ce5964",
   "metadata": {},
   "outputs": [
    {
     "name": "stdout",
     "output_type": "stream",
     "text": [
      "<class 'pandas.core.frame.DataFrame'>\n",
      "Int64Index: 30478 entries, 0 to 41187\n",
      "Data columns (total 57 columns):\n",
      " #   Column                         Non-Null Count  Dtype  \n",
      "---  ------                         --------------  -----  \n",
      " 0   age                            30478 non-null  float64\n",
      " 1   duration                       30478 non-null  float64\n",
      " 2   campaign                       30478 non-null  float64\n",
      " 3   pdays                          30478 non-null  float64\n",
      " 4   previous                       30478 non-null  float64\n",
      " 5   emp.var.rate                   30478 non-null  float64\n",
      " 6   cons.price.idx                 30478 non-null  float64\n",
      " 7   cons.conf.idx                  30478 non-null  float64\n",
      " 8   euribor3m                      30478 non-null  float64\n",
      " 9   nr.employed                    30478 non-null  float64\n",
      " 10  job_admin.                     30478 non-null  uint8  \n",
      " 11  job_blue-collar                30478 non-null  uint8  \n",
      " 12  job_entrepreneur               30478 non-null  uint8  \n",
      " 13  job_housemaid                  30478 non-null  uint8  \n",
      " 14  job_management                 30478 non-null  uint8  \n",
      " 15  job_retired                    30478 non-null  uint8  \n",
      " 16  job_self-employed              30478 non-null  uint8  \n",
      " 17  job_services                   30478 non-null  uint8  \n",
      " 18  job_student                    30478 non-null  uint8  \n",
      " 19  job_technician                 30478 non-null  uint8  \n",
      " 20  job_unemployed                 30478 non-null  uint8  \n",
      " 21  marital_divorced               30478 non-null  uint8  \n",
      " 22  marital_married                30478 non-null  uint8  \n",
      " 23  marital_single                 30478 non-null  uint8  \n",
      " 24  education_basic.4y             30478 non-null  uint8  \n",
      " 25  education_basic.6y             30478 non-null  uint8  \n",
      " 26  education_basic.9y             30478 non-null  uint8  \n",
      " 27  education_high.school          30478 non-null  uint8  \n",
      " 28  education_illiterate           30478 non-null  uint8  \n",
      " 29  education_professional.course  30478 non-null  uint8  \n",
      " 30  education_university.degree    30478 non-null  uint8  \n",
      " 31  default_no                     30478 non-null  uint8  \n",
      " 32  default_yes                    30478 non-null  uint8  \n",
      " 33  housing_no                     30478 non-null  uint8  \n",
      " 34  housing_yes                    30478 non-null  uint8  \n",
      " 35  loan_no                        30478 non-null  uint8  \n",
      " 36  loan_yes                       30478 non-null  uint8  \n",
      " 37  contact_cellular               30478 non-null  uint8  \n",
      " 38  contact_telephone              30478 non-null  uint8  \n",
      " 39  month_apr                      30478 non-null  uint8  \n",
      " 40  month_aug                      30478 non-null  uint8  \n",
      " 41  month_dec                      30478 non-null  uint8  \n",
      " 42  month_jul                      30478 non-null  uint8  \n",
      " 43  month_jun                      30478 non-null  uint8  \n",
      " 44  month_mar                      30478 non-null  uint8  \n",
      " 45  month_may                      30478 non-null  uint8  \n",
      " 46  month_nov                      30478 non-null  uint8  \n",
      " 47  month_oct                      30478 non-null  uint8  \n",
      " 48  month_sep                      30478 non-null  uint8  \n",
      " 49  day_of_week_fri                30478 non-null  uint8  \n",
      " 50  day_of_week_mon                30478 non-null  uint8  \n",
      " 51  day_of_week_thu                30478 non-null  uint8  \n",
      " 52  day_of_week_tue                30478 non-null  uint8  \n",
      " 53  day_of_week_wed                30478 non-null  uint8  \n",
      " 54  poutcome_failure               30478 non-null  uint8  \n",
      " 55  poutcome_nonexistent           30478 non-null  uint8  \n",
      " 56  poutcome_success               30478 non-null  uint8  \n",
      "dtypes: float64(10), uint8(47)\n",
      "memory usage: 3.9 MB\n"
     ]
    }
   ],
   "source": [
    "df_done=pd.get_dummies(df_new.iloc[:,:-1])\n",
    "df_done.info()"
   ]
  },
  {
   "cell_type": "code",
   "execution_count": 39,
   "id": "210d18d7",
   "metadata": {},
   "outputs": [],
   "source": [
    "from sklearn.model_selection import train_test_split\n",
    "\n",
    "X_train,X_test,Y_train,Y_test=train_test_split(df_done.iloc[:,:],df_new.iloc[:,-1],\n",
    "                                               test_size=0.25,\n",
    "                                               stratify=df_new.iloc[:,-1],\n",
    "                                               random_state=123)"
   ]
  },
  {
   "cell_type": "code",
   "execution_count": 60,
   "id": "d896d126",
   "metadata": {},
   "outputs": [
    {
     "name": "stdout",
     "output_type": "stream",
     "text": [
      "no     19965\n",
      "yes     2893\n",
      "Name: y, dtype: int64\n"
     ]
    },
    {
     "data": {
      "text/plain": [
       "0.12656400384985564"
      ]
     },
     "execution_count": 60,
     "metadata": {},
     "output_type": "execute_result"
    }
   ],
   "source": [
    "print(Y_train.value_counts())\n",
    "2893/(2893+19965)"
   ]
  },
  {
   "cell_type": "code",
   "execution_count": 61,
   "id": "1777fb2a",
   "metadata": {},
   "outputs": [
    {
     "name": "stdout",
     "output_type": "stream",
     "text": [
      "no     6655\n",
      "yes     965\n",
      "Name: y, dtype: int64\n"
     ]
    },
    {
     "data": {
      "text/plain": [
       "0.12664041994750655"
      ]
     },
     "execution_count": 61,
     "metadata": {},
     "output_type": "execute_result"
    }
   ],
   "source": [
    "print(Y_test.value_counts())\n",
    "965/(965+6655)"
   ]
  },
  {
   "cell_type": "markdown",
   "id": "76ae7dee",
   "metadata": {},
   "source": [
    "## Logistic Regression"
   ]
  },
  {
   "cell_type": "markdown",
   "id": "88a9154c",
   "metadata": {},
   "source": [
    "## Random Forest"
   ]
  },
  {
   "cell_type": "code",
   "execution_count": 52,
   "id": "88a6b7b2",
   "metadata": {},
   "outputs": [
    {
     "name": "stdout",
     "output_type": "stream",
     "text": [
      "0.9083034386210517\n",
      "0.8969816272965879\n"
     ]
    }
   ],
   "source": [
    "from sklearn.ensemble import RandomForestClassifier\n",
    "rfc=RandomForestClassifier(n_estimators=100,\n",
    "                           max_features='sqrt',\n",
    "                           max_depth=8,\n",
    "                           criterion='gini',\n",
    "                           n_jobs=-1,\n",
    "                           random_state=123)\n",
    "rfc.fit(X_train,Y_train)\n",
    "print(rfc.score(X_train,Y_train))\n",
    "print(rfc.score(X_test,Y_test))"
   ]
  },
  {
   "cell_type": "code",
   "execution_count": 51,
   "id": "c3513829",
   "metadata": {},
   "outputs": [
    {
     "name": "stdout",
     "output_type": "stream",
     "text": [
      "{'criterion': 'gini', 'max_depth': 8, 'max_features': 'sqrt', 'n_estimators': 100}\n"
     ]
    }
   ],
   "source": [
    "from sklearn.model_selection import GridSearchCV\n",
    "param={'n_estimators':[5,15,30,50,100],\n",
    "      'max_features': ['auto', 'sqrt', 'log2'],\n",
    "       'max_depth' : [4,5,6,7,8],\n",
    "      'criterion' :['gini', 'entropy']}\n",
    "gscv = GridSearchCV(RandomForestClassifier(), param_grid=param, cv=3, refit=True)\n",
    "gscv.fit(X_train,Y_train)\n",
    "print(gscv.best_params_)"
   ]
  },
  {
   "cell_type": "markdown",
   "id": "7b8c4912",
   "metadata": {},
   "source": [
    "## Decision Tree"
   ]
  },
  {
   "cell_type": "code",
   "execution_count": 22,
   "id": "efd0d625",
   "metadata": {},
   "outputs": [
    {
     "data": {
      "text/plain": [
       "'from sklearn.tree import DecisionTreeClassifier\\ndtc=DecisionTreeClassifier()\\ndtc.fit(X_train,Y_train)\\nprint(dtc.score(X_train,Y_train))\\nprint(dtc.score(X_test,Y_test))'"
      ]
     },
     "execution_count": 22,
     "metadata": {},
     "output_type": "execute_result"
    }
   ],
   "source": [
    "'''from sklearn.tree import DecisionTreeClassifier\n",
    "dtc=DecisionTreeClassifier()\n",
    "dtc.fit(X_train,Y_train)\n",
    "print(dtc.score(X_train,Y_train))\n",
    "print(dtc.score(X_test,Y_test))'''"
   ]
  },
  {
   "cell_type": "code",
   "execution_count": 23,
   "id": "b0913ac5",
   "metadata": {},
   "outputs": [
    {
     "data": {
      "text/plain": [
       "\"from sklearn.neighbors import KNeighborsClassifier\\nfrom sklearn.model_selection import GridSearchCV\\nparams = {'n_neighbors':[5,10,30,50,100], \\n          'metric':['euclidean','manhattan']}\\ngscv = GridSearchCV(KNeighborsClassifier(), param_grid=params, # grid of size 10\\n                    cv=3, # do 3-fold CV at every grid point\\n                    refit=True) # refit True trains one more time on the entire training set\\ngscv.fit(X_train,Y_train) \\nprint(gscv.best_params_)\""
      ]
     },
     "execution_count": 23,
     "metadata": {},
     "output_type": "execute_result"
    }
   ],
   "source": [
    "'''from sklearn.neighbors import KNeighborsClassifier\n",
    "from sklearn.model_selection import GridSearchCV\n",
    "params = {'n_neighbors':[5,10,30,50,100], \n",
    "          'metric':['euclidean','manhattan']}\n",
    "gscv = GridSearchCV(KNeighborsClassifier(), param_grid=params, # grid of size 10\n",
    "                    cv=3, # do 3-fold CV at every grid point\n",
    "                    refit=True) # refit True trains one more time on the entire training set\n",
    "gscv.fit(X_train,Y_train) \n",
    "print(gscv.best_params_)'''"
   ]
  },
  {
   "cell_type": "code",
   "execution_count": 24,
   "id": "56e83e71",
   "metadata": {},
   "outputs": [
    {
     "name": "stdout",
     "output_type": "stream",
     "text": [
      "0.8925102808644676\n",
      "0.8910761154855643\n"
     ]
    }
   ],
   "source": [
    "from sklearn.neighbors import KNeighborsClassifier\n",
    "knn=KNeighborsClassifier(n_neighbors=50,metric='manhattan')\n",
    "knn.fit(X_train,Y_train)\n",
    "print(knn.score(X_train,Y_train))\n",
    "print(knn.score(X_test,Y_test))"
   ]
  },
  {
   "cell_type": "code",
   "execution_count": 53,
   "id": "101919cb",
   "metadata": {},
   "outputs": [
    {
     "data": {
      "text/plain": [
       "(None, <AxesSubplot:xlabel='predicted label', ylabel='true label'>)"
      ]
     },
     "execution_count": 53,
     "metadata": {},
     "output_type": "execute_result"
    },
    {
     "data": {
      "image/png": "[encoded data removed]",
      "text/plain": [
       "<Figure size 432x432 with 1 Axes>"
      ]
     },
     "metadata": {
      "needs_background": "light"
     },
     "output_type": "display_data"
    }
   ],
   "source": [
    "from mlxtend.plotting import plot_confusion_matrix\n",
    "from sklearn.model_selection import cross_val_predict\n",
    "from sklearn.metrics import confusion_matrix\n",
    "fig,ax = plt.subplots(1,1,figsize=(6,6))\n",
    "\n",
    "Y_test_pred=cross_val_predict(rfc,X_test,Y_test,cv=3)\n",
    "plot_confusion_matrix(confusion_matrix(Y_test,Y_test_pred),axis=ax)"
   ]
  },
  {
   "cell_type": "code",
   "execution_count": 54,
   "id": "a1b02d8e",
   "metadata": {},
   "outputs": [
    {
     "data": {
      "text/plain": [
       "0.4017923823749066"
      ]
     },
     "execution_count": 54,
     "metadata": {},
     "output_type": "execute_result"
    }
   ],
   "source": [
    "from sklearn.metrics import f1_score\n",
    "f1_score(Y_test,Y_test_pred,pos_label='yes')"
   ]
  },
  {
   "cell_type": "code",
   "execution_count": 45,
   "id": "86e39506",
   "metadata": {},
   "outputs": [
    {
     "data": {
      "text/plain": [
       "duration                         0.298523\n",
       "nr.employed                      0.116036\n",
       "euribor3m                        0.109198\n",
       "emp.var.rate                     0.092160\n",
       "pdays                            0.061657\n",
       "cons.conf.idx                    0.058605\n",
       "poutcome_success                 0.043083\n",
       "cons.price.idx                   0.027438\n",
       "age                              0.019318\n",
       "month_oct                        0.018860\n",
       "month_may                        0.015905\n",
       "contact_cellular                 0.014644\n",
       "poutcome_nonexistent             0.014276\n",
       "month_mar                        0.009328\n",
       "contact_telephone                0.008568\n",
       "poutcome_failure                 0.008266\n",
       "campaign                         0.008079\n",
       "previous                         0.006347\n",
       "month_apr                        0.006138\n",
       "month_jun                        0.003916\n",
       "job_retired                      0.003629\n",
       "education_university.degree      0.003142\n",
       "day_of_week_mon                  0.003126\n",
       "job_blue-collar                  0.003005\n",
       "day_of_week_fri                  0.002812\n",
       "month_aug                        0.002393\n",
       "education_basic.9y               0.002087\n",
       "day_of_week_thu                  0.002078\n",
       "housing_no                       0.002048\n",
       "day_of_week_wed                  0.001892\n",
       "education_high.school            0.001882\n",
       "marital_single                   0.001866\n",
       "month_nov                        0.001809\n",
       "job_admin.                       0.001804\n",
       "education_basic.4y               0.001702\n",
       "month_sep                        0.001665\n",
       "day_of_week_tue                  0.001651\n",
       "loan_yes                         0.001646\n",
       "loan_no                          0.001619\n",
       "marital_married                  0.001569\n",
       "job_technician                   0.001560\n",
       "housing_yes                      0.001525\n",
       "education_basic.6y               0.001423\n",
       "job_student                      0.001372\n",
       "marital_divorced                 0.001366\n",
       "job_unemployed                   0.001320\n",
       "job_services                     0.001294\n",
       "job_management                   0.001251\n",
       "education_professional.course    0.001184\n",
       "month_jul                        0.001045\n",
       "job_self-employed                0.000864\n",
       "job_housemaid                    0.000709\n",
       "job_entrepreneur                 0.000690\n",
       "month_dec                        0.000399\n",
       "education_illiterate             0.000226\n",
       "default_yes                      0.000003\n",
       "default_no                       0.000000\n",
       "dtype: float64"
      ]
     },
     "execution_count": 45,
     "metadata": {},
     "output_type": "execute_result"
    }
   ],
   "source": [
    "feature_importance=pd.Series(rfc.feature_importances_,index=X_test.columns)\n",
    "feature_importance.sort_values(ascending=False)"
   ]
  },
  {
   "cell_type": "code",
   "execution_count": 46,
   "id": "86d092a9",
   "metadata": {},
   "outputs": [
    {
     "data": {
      "text/plain": [
       "Index(['age', 'duration', 'pdays', 'emp.var.rate', 'cons.price.idx',\n",
       "       'cons.conf.idx', 'euribor3m', 'nr.employed', 'contact_cellular',\n",
       "       'month_may', 'month_oct', 'poutcome_nonexistent', 'poutcome_success'],\n",
       "      dtype='object')"
      ]
     },
     "execution_count": 46,
     "metadata": {},
     "output_type": "execute_result"
    }
   ],
   "source": [
    "feature_importance[feature_importance>0.01].index"
   ]
  },
  {
   "cell_type": "code",
   "execution_count": 47,
   "id": "942d30c7",
   "metadata": {},
   "outputs": [],
   "source": [
    "df_done1=df_done[feature_importance[feature_importance>0.01].index]\n",
    "X_train_new,X_test_new,Y_train_new,Y_test_new=train_test_split(df_done1.iloc[:,:],df_new.iloc[:,-1],\n",
    "                                               test_size=0.25,\n",
    "                                               stratify=df_new.iloc[:,-1],\n",
    "                                               random_state=123)"
   ]
  },
  {
   "cell_type": "code",
   "execution_count": 55,
   "id": "17d5dd81",
   "metadata": {},
   "outputs": [
    {
     "name": "stdout",
     "output_type": "stream",
     "text": [
      "{'criterion': 'gini', 'max_depth': 8, 'max_features': 'log2', 'n_estimators': 50}\n"
     ]
    }
   ],
   "source": [
    "from sklearn.model_selection import GridSearchCV\n",
    "param={'n_estimators':[5,15,30,50,100],\n",
    "      'max_features': ['auto', 'sqrt', 'log2'],\n",
    "       'max_depth' : [4,5,6,7,8],\n",
    "      'criterion' :['gini', 'entropy']}\n",
    "gscv = GridSearchCV(RandomForestClassifier(), param_grid=param, cv=3, refit=True)\n",
    "gscv.fit(X_train_new,Y_train_new)\n",
    "print(gscv.best_params_)"
   ]
  },
  {
   "cell_type": "code",
   "execution_count": 56,
   "id": "c23e8511",
   "metadata": {},
   "outputs": [
    {
     "name": "stdout",
     "output_type": "stream",
     "text": [
      "0.9232653775483419\n",
      "0.9026246719160105\n"
     ]
    }
   ],
   "source": [
    "from sklearn.ensemble import RandomForestClassifier\n",
    "rfc_new=RandomForestClassifier(n_estimators=50,\n",
    "                               max_depth=8,\n",
    "                               max_features='log2',\n",
    "                               criterion='gini',\n",
    "                               n_jobs=-1,random_state=123)\n",
    "rfc_new.fit(X_train_new,Y_train_new)\n",
    "print(rfc_new.score(X_train_new,Y_train_new))\n",
    "print(rfc_new.score(X_test_new,Y_test_new))"
   ]
  },
  {
   "cell_type": "code",
   "execution_count": 57,
   "id": "817deb93",
   "metadata": {},
   "outputs": [
    {
     "data": {
      "text/plain": [
       "(<Figure size 432x288 with 1 Axes>,\n",
       " <AxesSubplot:xlabel='predicted label', ylabel='true label'>)"
      ]
     },
     "execution_count": 57,
     "metadata": {},
     "output_type": "execute_result"
    },
    {
     "data": {
      "image/png": "[encoded data removed]",
      "text/plain": [
       "<Figure size 432x288 with 1 Axes>"
      ]
     },
     "metadata": {
      "needs_background": "light"
     },
     "output_type": "display_data"
    }
   ],
   "source": [
    "Y_test_pred_new=cross_val_predict(rfc_new,X_test_new,Y_test_new,cv=3)\n",
    "plot_confusion_matrix(confusion_matrix(Y_test_new,Y_test_pred_new))"
   ]
  },
  {
   "cell_type": "code",
   "execution_count": 58,
   "id": "dc7df8f9",
   "metadata": {},
   "outputs": [
    {
     "data": {
      "text/plain": [
       "0.5117759388924253"
      ]
     },
     "execution_count": 58,
     "metadata": {},
     "output_type": "execute_result"
    }
   ],
   "source": [
    "f1_score(Y_test_new,Y_test_pred_new,pos_label='yes')"
   ]
  }
 ],
 "metadata": {
  "kernelspec": {
   "display_name": "Python 3 (ipykernel)",
   "language": "python",
   "name": "python3"
  },
  "language_info": {
   "codemirror_mode": {
    "name": "ipython",
    "version": 3
   },
   "file_extension": ".py",
   "mimetype": "text/x-python",
   "name": "python",
   "nbconvert_exporter": "python",
   "pygments_lexer": "ipython3",
   "version": "3.8.12"
  }
 },
 "nbformat": 4,
 "nbformat_minor": 5
}
