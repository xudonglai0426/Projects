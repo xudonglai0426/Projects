{
  "nbformat": 4,
  "nbformat_minor": 0,
  "metadata": {
    "colab": {
      "name": "Copy of Baseline_model.ipynb（group）",
      "provenance": [],
      "collapsed_sections": []
    },
    "kernelspec": {
      "name": "python3",
      "display_name": "Python 3"
    },
    "language_info": {
      "name": "python"
    }
  },
  "cells": [
    {
      "cell_type": "markdown",
      "source": [
        "#Load Dataset"
      ],
      "metadata": {
        "id": "r0MSJJFyjCA0"
      }
    },
    {
      "cell_type": "code",
      "execution_count": null,
      "metadata": {
        "colab": {
          "base_uri": "https://localhost:8080/"
        },
        "id": "z2S1DxM5KXW-",
        "outputId": "f3d060a1-16e1-4b95-d6d5-e8c168dbc4e1"
      },
      "outputs": [
        {
          "output_type": "stream",
          "name": "stdout",
          "text": [
            "Drive already mounted at /content/drive; to attempt to forcibly remount, call drive.mount(\"/content/drive\", force_remount=True).\n"
          ]
        }
      ],
      "source": [
        "from google.colab import drive\n",
        "drive.mount('/content/drive')"
      ]
    },
    {
      "cell_type": "code",
      "source": [
        "import pandas as pd\n",
        "import numpy as np\n",
        "import cv2\n",
        "import os\n",
        "os.listdir('/content/drive/My Drive/refrigerator1/')#path of refrigerator data in blueteam drive"
      ],
      "metadata": {
        "colab": {
          "base_uri": "https://localhost:8080/"
        },
        "id": "XYLHJN0QdHTp",
        "outputId": "b66203bc-9aae-4ed8-f02d-f198c885d6a3"
      },
      "execution_count": null,
      "outputs": [
        {
          "output_type": "execute_result",
          "data": {
            "text/plain": [
              "['put_back_item',\n",
              " 'no_interaction',\n",
              " 'open_close_fridge',\n",
              " 'screen_interaction',\n",
              " 'take_out_item',\n",
              " 'full_features',\n",
              " 'test']"
            ]
          },
          "metadata": {},
          "execution_count": 2
        }
      ]
    },
    {
      "cell_type": "markdown",
      "source": [
        "#Interpolation"
      ],
      "metadata": {
        "id": "c5SE8AoUEYsf"
      }
    },
    {
      "cell_type": "code",
      "source": [
        "def traj_interp(traj, n_frames=100):\n",
        "    n_samples = traj.shape[0]\n",
        "\n",
        "    if n_samples == 0:\n",
        "        raise ValueError(\"trajectories of length 0!!\")\n",
        "\n",
        "    result = np.empty((n_frames, 2, 17))\n",
        "\n",
        "    traj = np.asarray(traj)\n",
        "    dest_x = np.linspace(0, 100, n_frames)\n",
        "    src_x = np.linspace(0, 100, n_samples)\n",
        "\n",
        "    for i in range(2):\n",
        "        for j in range(17):\n",
        "            result[:, i, j] = np.interp(\n",
        "                dest_x,\n",
        "                src_x,\n",
        "                traj[:, i, j]\n",
        "            )\n",
        "\n",
        "    return result.reshape(-1)"
      ],
      "metadata": {
        "id": "6mpmEZuPEYDV"
      },
      "execution_count": null,
      "outputs": []
    },
    {
      "cell_type": "code",
      "source": [
        "def extract_trajectories(keypoints, with_index=False):\n",
        "    \"\"\"\n",
        "    with_index: For True, return the index of frames that have features\n",
        "    \"\"\"\n",
        "    trajectory = []\n",
        "    index = []\n",
        "    for i, (_, k) in enumerate(keypoints):\n",
        "        if len(k) != 0:\n",
        "            index.append(i)\n",
        "            two_d_point = k[0, [0, 1], :]\n",
        "            trajectory.append(two_d_point)\n",
        "\n",
        "    if with_index:\n",
        "        return np.stack(trajectory), index\n",
        "    else:\n",
        "        return np.stack(trajectory)"
      ],
      "metadata": {
        "id": "1R0kNvTFH7B4"
      },
      "execution_count": null,
      "outputs": []
    },
    {
      "cell_type": "code",
      "source": [
        "def get_full_feature_data(feature_dirs, transform=None, **kwargs):\n",
        "    features = []\n",
        "    labels = []\n",
        "    label_encoder = {'no_interaction': 0, 'open_close_fridge': 1,\n",
        "                     'put_back_item': 2, 'screen_interaction': 3, 'take_out_item': 4}\n",
        "\n",
        "    for path in feature_dirs:\n",
        "        #label = path.split('/')[-2]\n",
        "        name=path.split('/')[-1].split('_')[:-3]\n",
        "        if len(name)==2:\n",
        "          label=name[0]+'_'+name[1]\n",
        "        else:\n",
        "          label=name[0]+'_'+name[1]+'_'+name[2]\n",
        "\n",
        "        d = np.load(path, allow_pickle=True)\n",
        "        traj = extract_trajectories(d['keypoints'], with_index=False)\n",
        "        if transform:\n",
        "            traj = transform(traj, **kwargs)\n",
        "        labels.append(label_encoder.get(label, None))\n",
        "        features.append(traj)\n",
        "\n",
        "    return features, np.stack(labels)"
      ],
      "metadata": {
        "id": "MLEuCl9-BmNI"
      },
      "execution_count": null,
      "outputs": []
    },
    {
      "cell_type": "code",
      "source": [
        "from glob import glob\n",
        "path_features = '/content/drive/My Drive/refrigerator1/full_features/outputs'\n",
        "#load both mp4 and mkv file\n",
        "npz_list = [y for x in os.walk(path_features) for y in glob(os.path.join(x[0], '*.mp4.npz'))]+[y for x in os.walk(path_features) for y in glob(os.path.join(x[0], '*.mkv.npz'))]\n",
        "X, y = get_full_feature_data(npz_list, transform = traj_interp)\n",
        "X = np.asarray(X)"
      ],
      "metadata": {
        "id": "ox3FxoX3Fcqy"
      },
      "execution_count": null,
      "outputs": []
    },
    {
      "cell_type": "code",
      "source": [
        "print(X.shape)\n",
        "print(y.shape)"
      ],
      "metadata": {
        "colab": {
          "base_uri": "https://localhost:8080/"
        },
        "id": "Y17R9tPNFZtL",
        "outputId": "730b7f1a-5863-4892-d3d0-a673136e5253"
      },
      "execution_count": null,
      "outputs": [
        {
          "output_type": "stream",
          "name": "stdout",
          "text": [
            "(440, 3400)\n",
            "(440,)\n"
          ]
        }
      ]
    }
  ]
}